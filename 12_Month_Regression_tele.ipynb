{
 "cells": [
  {
   "cell_type": "markdown",
   "metadata": {},
   "source": [
    "# 12 Month EPS Growth Regression Model"
   ]
  },
  {
   "cell_type": "code",
   "execution_count": 1,
   "metadata": {},
   "outputs": [],
   "source": [
    "import pandas as pd\n",
    "from matplotlib import pyplot as plt\n",
    "import numpy as np"
   ]
  },
  {
   "cell_type": "markdown",
   "metadata": {},
   "source": [
    "# Manipulate to get proper monthly EPS growth"
   ]
  },
  {
   "cell_type": "markdown",
   "metadata": {},
   "source": [
    "Use monthly average PE ratio, average monthly prices, and the 10-Year Treasury Yield to calculate the proper EPS growth"
   ]
  },
  {
   "cell_type": "code",
   "execution_count": 2,
   "metadata": {},
   "outputs": [],
   "source": [
    "pe_df = pd.read_csv('PE_daily_normalized_tele.csv')"
   ]
  },
  {
   "cell_type": "code",
   "execution_count": 3,
   "metadata": {},
   "outputs": [
    {
     "data": {
      "text/plain": [
       "Date    datetime64[ns]\n",
       "PE             float64\n",
       "dtype: object"
      ]
     },
     "execution_count": 3,
     "metadata": {},
     "output_type": "execute_result"
    }
   ],
   "source": [
    "# rename and convert proper types\n",
    "pe_df = pe_df.rename(columns={\"Dates\": \"Date\"})\n",
    "pe_df['Date']= pd.to_datetime(pe_df['Date'])\n",
    "pe_df.dtypes"
   ]
  },
  {
   "cell_type": "code",
   "execution_count": 4,
   "metadata": {},
   "outputs": [],
   "source": [
    "pe_df = pe_df.set_index('Date')\n",
    "# get average per year, month\n",
    "pe_df = pe_df.groupby([(pe_df.index.year), (pe_df.index.month)]).PE.mean()\n",
    "# convert to data frame\n",
    "pe_df = pd.DataFrame(pe_df)\n",
    "# rename, reset index\n",
    "pe_df.index.names=['Year', 'Month']\n",
    "pe_df =pe_df.reset_index()"
   ]
  },
  {
   "cell_type": "code",
   "execution_count": 5,
   "metadata": {},
   "outputs": [
    {
     "data": {
      "text/plain": [
       "Year     float64\n",
       "Month    float64\n",
       "PE       float64\n",
       "dtype: object"
      ]
     },
     "execution_count": 5,
     "metadata": {},
     "output_type": "execute_result"
    }
   ],
   "source": [
    "pe_df.dtypes"
   ]
  },
  {
   "cell_type": "code",
   "execution_count": 6,
   "metadata": {},
   "outputs": [
    {
     "data": {
      "text/html": [
       "<div>\n",
       "<style scoped>\n",
       "    .dataframe tbody tr th:only-of-type {\n",
       "        vertical-align: middle;\n",
       "    }\n",
       "\n",
       "    .dataframe tbody tr th {\n",
       "        vertical-align: top;\n",
       "    }\n",
       "\n",
       "    .dataframe thead th {\n",
       "        text-align: right;\n",
       "    }\n",
       "</style>\n",
       "<table border=\"1\" class=\"dataframe\">\n",
       "  <thead>\n",
       "    <tr style=\"text-align: right;\">\n",
       "      <th></th>\n",
       "      <th>Year</th>\n",
       "      <th>Month</th>\n",
       "      <th>PE</th>\n",
       "    </tr>\n",
       "  </thead>\n",
       "  <tbody>\n",
       "    <tr>\n",
       "      <th>0</th>\n",
       "      <td>2001.0</td>\n",
       "      <td>8.0</td>\n",
       "      <td>21.357323</td>\n",
       "    </tr>\n",
       "    <tr>\n",
       "      <th>1</th>\n",
       "      <td>2001.0</td>\n",
       "      <td>9.0</td>\n",
       "      <td>21.544017</td>\n",
       "    </tr>\n",
       "    <tr>\n",
       "      <th>2</th>\n",
       "      <td>2001.0</td>\n",
       "      <td>10.0</td>\n",
       "      <td>21.277821</td>\n",
       "    </tr>\n",
       "    <tr>\n",
       "      <th>3</th>\n",
       "      <td>2001.0</td>\n",
       "      <td>11.0</td>\n",
       "      <td>20.492719</td>\n",
       "    </tr>\n",
       "    <tr>\n",
       "      <th>4</th>\n",
       "      <td>2001.0</td>\n",
       "      <td>12.0</td>\n",
       "      <td>20.718582</td>\n",
       "    </tr>\n",
       "  </tbody>\n",
       "</table>\n",
       "</div>"
      ],
      "text/plain": [
       "     Year  Month         PE\n",
       "0  2001.0    8.0  21.357323\n",
       "1  2001.0    9.0  21.544017\n",
       "2  2001.0   10.0  21.277821\n",
       "3  2001.0   11.0  20.492719\n",
       "4  2001.0   12.0  20.718582"
      ]
     },
     "execution_count": 6,
     "metadata": {},
     "output_type": "execute_result"
    }
   ],
   "source": [
    "pe_df.head(5)"
   ]
  },
  {
   "cell_type": "markdown",
   "metadata": {},
   "source": [
    "Load monthly earnings prices"
   ]
  },
  {
   "cell_type": "code",
   "execution_count": 7,
   "metadata": {},
   "outputs": [
    {
     "data": {
      "text/plain": [
       "Dates    datetime64[ns]\n",
       "Value           float64\n",
       "dtype: object"
      ]
     },
     "execution_count": 7,
     "metadata": {},
     "output_type": "execute_result"
    }
   ],
   "source": [
    "# load average monthly price\n",
    "avg_m_price = pd.read_csv('daily_price_tele.csv')\n",
    "# convert proper types\n",
    "avg_m_price['Dates']= pd.to_datetime(avg_m_price['Dates'])\n",
    "# check for types\n",
    "avg_m_price.dtypes"
   ]
  },
  {
   "cell_type": "code",
   "execution_count": 8,
   "metadata": {},
   "outputs": [],
   "source": [
    "avg_m_price = avg_m_price.set_index('Dates')\n",
    "# get average per year, month\n",
    "avg_m_price = avg_m_price.groupby([(avg_m_price.index.year), (avg_m_price.index.month)]).Value.mean()\n",
    "# convert to data frame\n",
    "avg_m_price = pd.DataFrame(avg_m_price)\n",
    "# rename, reset index\n",
    "avg_m_price.index.names=['Year', 'Month']\n",
    "avg_m_price =avg_m_price.reset_index()\n",
    "# convert proper type\n",
    "avg_m_price['Month'] = avg_m_price['Month'].astype(int)"
   ]
  },
  {
   "cell_type": "code",
   "execution_count": 9,
   "metadata": {},
   "outputs": [
    {
     "data": {
      "text/html": [
       "<div>\n",
       "<style scoped>\n",
       "    .dataframe tbody tr th:only-of-type {\n",
       "        vertical-align: middle;\n",
       "    }\n",
       "\n",
       "    .dataframe tbody tr th {\n",
       "        vertical-align: top;\n",
       "    }\n",
       "\n",
       "    .dataframe thead th {\n",
       "        text-align: right;\n",
       "    }\n",
       "</style>\n",
       "<table border=\"1\" class=\"dataframe\">\n",
       "  <thead>\n",
       "    <tr style=\"text-align: right;\">\n",
       "      <th></th>\n",
       "      <th>Year</th>\n",
       "      <th>Month</th>\n",
       "      <th>Value</th>\n",
       "    </tr>\n",
       "  </thead>\n",
       "  <tbody>\n",
       "    <tr>\n",
       "      <th>0</th>\n",
       "      <td>2001</td>\n",
       "      <td>8</td>\n",
       "      <td>186.393478</td>\n",
       "    </tr>\n",
       "    <tr>\n",
       "      <th>1</th>\n",
       "      <td>2001</td>\n",
       "      <td>9</td>\n",
       "      <td>180.474000</td>\n",
       "    </tr>\n",
       "    <tr>\n",
       "      <th>2</th>\n",
       "      <td>2001</td>\n",
       "      <td>10</td>\n",
       "      <td>177.617391</td>\n",
       "    </tr>\n",
       "    <tr>\n",
       "      <th>3</th>\n",
       "      <td>2001</td>\n",
       "      <td>11</td>\n",
       "      <td>167.864762</td>\n",
       "    </tr>\n",
       "    <tr>\n",
       "      <th>4</th>\n",
       "      <td>2001</td>\n",
       "      <td>12</td>\n",
       "      <td>167.026000</td>\n",
       "    </tr>\n",
       "  </tbody>\n",
       "</table>\n",
       "</div>"
      ],
      "text/plain": [
       "   Year  Month       Value\n",
       "0  2001      8  186.393478\n",
       "1  2001      9  180.474000\n",
       "2  2001     10  177.617391\n",
       "3  2001     11  167.864762\n",
       "4  2001     12  167.026000"
      ]
     },
     "execution_count": 9,
     "metadata": {},
     "output_type": "execute_result"
    }
   ],
   "source": [
    "avg_m_price.head(5)"
   ]
  },
  {
   "cell_type": "markdown",
   "metadata": {},
   "source": [
    "### Join pe and average earnings together"
   ]
  },
  {
   "cell_type": "code",
   "execution_count": 10,
   "metadata": {},
   "outputs": [],
   "source": [
    "joined = pd.merge(pe_df, avg_m_price,  how='inner', left_on=['Year','Month'], right_on = ['Year', 'Month'])\n",
    "\n",
    "# get monthly earnings by dividing the two\n",
    "joined['m_earnings'] = joined['Value']/joined['PE']\n",
    "\n",
    "# shift monthly earning for later's monthly earning \n",
    "joined['prev_m'] = joined['m_earnings'].shift(1)\n",
    "\n",
    "# calculate monthly EPS growth without subtracting the 10 year yield\n",
    "joined['EPS_growth'] = ((joined['m_earnings'] - joined['prev_m']) / joined['prev_m'] + 1.0)**12 - 1"
   ]
  },
  {
   "cell_type": "code",
   "execution_count": 11,
   "metadata": {},
   "outputs": [
    {
     "data": {
      "text/html": [
       "<div>\n",
       "<style scoped>\n",
       "    .dataframe tbody tr th:only-of-type {\n",
       "        vertical-align: middle;\n",
       "    }\n",
       "\n",
       "    .dataframe tbody tr th {\n",
       "        vertical-align: top;\n",
       "    }\n",
       "\n",
       "    .dataframe thead th {\n",
       "        text-align: right;\n",
       "    }\n",
       "</style>\n",
       "<table border=\"1\" class=\"dataframe\">\n",
       "  <thead>\n",
       "    <tr style=\"text-align: right;\">\n",
       "      <th></th>\n",
       "      <th>Year</th>\n",
       "      <th>Month</th>\n",
       "      <th>PE</th>\n",
       "      <th>Value</th>\n",
       "      <th>m_earnings</th>\n",
       "      <th>prev_m</th>\n",
       "      <th>EPS_growth</th>\n",
       "    </tr>\n",
       "  </thead>\n",
       "  <tbody>\n",
       "    <tr>\n",
       "      <th>0</th>\n",
       "      <td>2001.0</td>\n",
       "      <td>8.0</td>\n",
       "      <td>21.357323</td>\n",
       "      <td>186.393478</td>\n",
       "      <td>8.727380</td>\n",
       "      <td>NaN</td>\n",
       "      <td>NaN</td>\n",
       "    </tr>\n",
       "    <tr>\n",
       "      <th>1</th>\n",
       "      <td>2001.0</td>\n",
       "      <td>9.0</td>\n",
       "      <td>21.544017</td>\n",
       "      <td>180.474000</td>\n",
       "      <td>8.376989</td>\n",
       "      <td>8.727380</td>\n",
       "      <td>-0.388426</td>\n",
       "    </tr>\n",
       "    <tr>\n",
       "      <th>2</th>\n",
       "      <td>2001.0</td>\n",
       "      <td>10.0</td>\n",
       "      <td>21.277821</td>\n",
       "      <td>177.617391</td>\n",
       "      <td>8.347537</td>\n",
       "      <td>8.376989</td>\n",
       "      <td>-0.041385</td>\n",
       "    </tr>\n",
       "    <tr>\n",
       "      <th>3</th>\n",
       "      <td>2001.0</td>\n",
       "      <td>11.0</td>\n",
       "      <td>20.492719</td>\n",
       "      <td>167.864762</td>\n",
       "      <td>8.191434</td>\n",
       "      <td>8.347537</td>\n",
       "      <td>-0.202704</td>\n",
       "    </tr>\n",
       "    <tr>\n",
       "      <th>4</th>\n",
       "      <td>2001.0</td>\n",
       "      <td>12.0</td>\n",
       "      <td>20.718582</td>\n",
       "      <td>167.026000</td>\n",
       "      <td>8.061652</td>\n",
       "      <td>8.191434</td>\n",
       "      <td>-0.174401</td>\n",
       "    </tr>\n",
       "  </tbody>\n",
       "</table>\n",
       "</div>"
      ],
      "text/plain": [
       "     Year  Month         PE       Value  m_earnings    prev_m  EPS_growth\n",
       "0  2001.0    8.0  21.357323  186.393478    8.727380       NaN         NaN\n",
       "1  2001.0    9.0  21.544017  180.474000    8.376989  8.727380   -0.388426\n",
       "2  2001.0   10.0  21.277821  177.617391    8.347537  8.376989   -0.041385\n",
       "3  2001.0   11.0  20.492719  167.864762    8.191434  8.347537   -0.202704\n",
       "4  2001.0   12.0  20.718582  167.026000    8.061652  8.191434   -0.174401"
      ]
     },
     "execution_count": 11,
     "metadata": {},
     "output_type": "execute_result"
    }
   ],
   "source": [
    "joined.head(5)"
   ]
  },
  {
   "cell_type": "markdown",
   "metadata": {},
   "source": [
    "### Load 10-year treasury"
   ]
  },
  {
   "cell_type": "code",
   "execution_count": 12,
   "metadata": {},
   "outputs": [],
   "source": [
    "treasury = pd.read_csv('mth_treasury_10yr.csv')\n",
    "\n",
    "# offset by one day to match the proper month later\n",
    "treasury['DATE'] = pd.to_datetime(treasury['DATE'])\n",
    "treasury['DATE'] = pd.DatetimeIndex(treasury['DATE'] - pd.DateOffset(1))\n",
    "\n",
    "# get separate year and month for joining later\n",
    "treasury['Year'] = pd.DatetimeIndex(treasury.DATE).year\n",
    "treasury['Month'] = pd.DatetimeIndex(treasury.DATE).month\n",
    "\n",
    "# divide GS10 by 100 to convert to decimals\n",
    "treasury['GS10'] = treasury['GS10']/100"
   ]
  },
  {
   "cell_type": "code",
   "execution_count": 13,
   "metadata": {},
   "outputs": [
    {
     "data": {
      "text/html": [
       "<div>\n",
       "<style scoped>\n",
       "    .dataframe tbody tr th:only-of-type {\n",
       "        vertical-align: middle;\n",
       "    }\n",
       "\n",
       "    .dataframe tbody tr th {\n",
       "        vertical-align: top;\n",
       "    }\n",
       "\n",
       "    .dataframe thead th {\n",
       "        text-align: right;\n",
       "    }\n",
       "</style>\n",
       "<table border=\"1\" class=\"dataframe\">\n",
       "  <thead>\n",
       "    <tr style=\"text-align: right;\">\n",
       "      <th></th>\n",
       "      <th>DATE</th>\n",
       "      <th>GS10</th>\n",
       "      <th>Year</th>\n",
       "      <th>Month</th>\n",
       "    </tr>\n",
       "  </thead>\n",
       "  <tbody>\n",
       "    <tr>\n",
       "      <th>0</th>\n",
       "      <td>1953-03-31</td>\n",
       "      <td>0.0283</td>\n",
       "      <td>1953</td>\n",
       "      <td>3</td>\n",
       "    </tr>\n",
       "    <tr>\n",
       "      <th>1</th>\n",
       "      <td>1953-04-30</td>\n",
       "      <td>0.0305</td>\n",
       "      <td>1953</td>\n",
       "      <td>4</td>\n",
       "    </tr>\n",
       "    <tr>\n",
       "      <th>2</th>\n",
       "      <td>1953-05-31</td>\n",
       "      <td>0.0311</td>\n",
       "      <td>1953</td>\n",
       "      <td>5</td>\n",
       "    </tr>\n",
       "    <tr>\n",
       "      <th>3</th>\n",
       "      <td>1953-06-30</td>\n",
       "      <td>0.0293</td>\n",
       "      <td>1953</td>\n",
       "      <td>6</td>\n",
       "    </tr>\n",
       "    <tr>\n",
       "      <th>4</th>\n",
       "      <td>1953-07-31</td>\n",
       "      <td>0.0295</td>\n",
       "      <td>1953</td>\n",
       "      <td>7</td>\n",
       "    </tr>\n",
       "  </tbody>\n",
       "</table>\n",
       "</div>"
      ],
      "text/plain": [
       "        DATE    GS10  Year  Month\n",
       "0 1953-03-31  0.0283  1953      3\n",
       "1 1953-04-30  0.0305  1953      4\n",
       "2 1953-05-31  0.0311  1953      5\n",
       "3 1953-06-30  0.0293  1953      6\n",
       "4 1953-07-31  0.0295  1953      7"
      ]
     },
     "execution_count": 13,
     "metadata": {},
     "output_type": "execute_result"
    }
   ],
   "source": [
    "treasury.head(5)"
   ]
  },
  {
   "cell_type": "markdown",
   "metadata": {},
   "source": [
    "Join to calculate the final monthly eps growth"
   ]
  },
  {
   "cell_type": "code",
   "execution_count": 14,
   "metadata": {},
   "outputs": [],
   "source": [
    "new_joined = pd.merge(joined, treasury,  how='inner', left_on=['Year','Month'], right_on = ['Year', 'Month'])\n",
    "\n",
    "new_joined['final_EPS_growth'] = new_joined['EPS_growth'] - new_joined['GS10']"
   ]
  },
  {
   "cell_type": "code",
   "execution_count": 15,
   "metadata": {},
   "outputs": [
    {
     "data": {
      "text/html": [
       "<div>\n",
       "<style scoped>\n",
       "    .dataframe tbody tr th:only-of-type {\n",
       "        vertical-align: middle;\n",
       "    }\n",
       "\n",
       "    .dataframe tbody tr th {\n",
       "        vertical-align: top;\n",
       "    }\n",
       "\n",
       "    .dataframe thead th {\n",
       "        text-align: right;\n",
       "    }\n",
       "</style>\n",
       "<table border=\"1\" class=\"dataframe\">\n",
       "  <thead>\n",
       "    <tr style=\"text-align: right;\">\n",
       "      <th></th>\n",
       "      <th>Year</th>\n",
       "      <th>Month</th>\n",
       "      <th>PE</th>\n",
       "      <th>Value</th>\n",
       "      <th>m_earnings</th>\n",
       "      <th>prev_m</th>\n",
       "      <th>EPS_growth</th>\n",
       "      <th>DATE</th>\n",
       "      <th>GS10</th>\n",
       "      <th>final_EPS_growth</th>\n",
       "    </tr>\n",
       "  </thead>\n",
       "  <tbody>\n",
       "    <tr>\n",
       "      <th>0</th>\n",
       "      <td>2001.0</td>\n",
       "      <td>8.0</td>\n",
       "      <td>21.357323</td>\n",
       "      <td>186.393478</td>\n",
       "      <td>8.727380</td>\n",
       "      <td>NaN</td>\n",
       "      <td>NaN</td>\n",
       "      <td>2001-08-31</td>\n",
       "      <td>0.0473</td>\n",
       "      <td>NaN</td>\n",
       "    </tr>\n",
       "    <tr>\n",
       "      <th>1</th>\n",
       "      <td>2001.0</td>\n",
       "      <td>9.0</td>\n",
       "      <td>21.544017</td>\n",
       "      <td>180.474000</td>\n",
       "      <td>8.376989</td>\n",
       "      <td>8.727380</td>\n",
       "      <td>-0.388426</td>\n",
       "      <td>2001-09-30</td>\n",
       "      <td>0.0457</td>\n",
       "      <td>-0.434126</td>\n",
       "    </tr>\n",
       "    <tr>\n",
       "      <th>2</th>\n",
       "      <td>2001.0</td>\n",
       "      <td>10.0</td>\n",
       "      <td>21.277821</td>\n",
       "      <td>177.617391</td>\n",
       "      <td>8.347537</td>\n",
       "      <td>8.376989</td>\n",
       "      <td>-0.041385</td>\n",
       "      <td>2001-10-31</td>\n",
       "      <td>0.0465</td>\n",
       "      <td>-0.087885</td>\n",
       "    </tr>\n",
       "    <tr>\n",
       "      <th>3</th>\n",
       "      <td>2001.0</td>\n",
       "      <td>11.0</td>\n",
       "      <td>20.492719</td>\n",
       "      <td>167.864762</td>\n",
       "      <td>8.191434</td>\n",
       "      <td>8.347537</td>\n",
       "      <td>-0.202704</td>\n",
       "      <td>2001-11-30</td>\n",
       "      <td>0.0509</td>\n",
       "      <td>-0.253604</td>\n",
       "    </tr>\n",
       "    <tr>\n",
       "      <th>4</th>\n",
       "      <td>2001.0</td>\n",
       "      <td>12.0</td>\n",
       "      <td>20.718582</td>\n",
       "      <td>167.026000</td>\n",
       "      <td>8.061652</td>\n",
       "      <td>8.191434</td>\n",
       "      <td>-0.174401</td>\n",
       "      <td>2001-12-31</td>\n",
       "      <td>0.0504</td>\n",
       "      <td>-0.224801</td>\n",
       "    </tr>\n",
       "  </tbody>\n",
       "</table>\n",
       "</div>"
      ],
      "text/plain": [
       "     Year  Month         PE       Value  m_earnings    prev_m  EPS_growth  \\\n",
       "0  2001.0    8.0  21.357323  186.393478    8.727380       NaN         NaN   \n",
       "1  2001.0    9.0  21.544017  180.474000    8.376989  8.727380   -0.388426   \n",
       "2  2001.0   10.0  21.277821  177.617391    8.347537  8.376989   -0.041385   \n",
       "3  2001.0   11.0  20.492719  167.864762    8.191434  8.347537   -0.202704   \n",
       "4  2001.0   12.0  20.718582  167.026000    8.061652  8.191434   -0.174401   \n",
       "\n",
       "        DATE    GS10  final_EPS_growth  \n",
       "0 2001-08-31  0.0473               NaN  \n",
       "1 2001-09-30  0.0457         -0.434126  \n",
       "2 2001-10-31  0.0465         -0.087885  \n",
       "3 2001-11-30  0.0509         -0.253604  \n",
       "4 2001-12-31  0.0504         -0.224801  "
      ]
     },
     "execution_count": 15,
     "metadata": {},
     "output_type": "execute_result"
    }
   ],
   "source": [
    "new_joined.head(5)"
   ]
  },
  {
   "cell_type": "code",
   "execution_count": 16,
   "metadata": {},
   "outputs": [
    {
     "data": {
      "text/html": [
       "<div>\n",
       "<style scoped>\n",
       "    .dataframe tbody tr th:only-of-type {\n",
       "        vertical-align: middle;\n",
       "    }\n",
       "\n",
       "    .dataframe tbody tr th {\n",
       "        vertical-align: top;\n",
       "    }\n",
       "\n",
       "    .dataframe thead th {\n",
       "        text-align: right;\n",
       "    }\n",
       "</style>\n",
       "<table border=\"1\" class=\"dataframe\">\n",
       "  <thead>\n",
       "    <tr style=\"text-align: right;\">\n",
       "      <th></th>\n",
       "      <th>Year</th>\n",
       "      <th>Month</th>\n",
       "      <th>PE</th>\n",
       "      <th>Value</th>\n",
       "      <th>m_earnings</th>\n",
       "      <th>prev_m</th>\n",
       "      <th>EPS_growth</th>\n",
       "      <th>DATE</th>\n",
       "      <th>GS10</th>\n",
       "      <th>final_EPS_growth</th>\n",
       "    </tr>\n",
       "  </thead>\n",
       "  <tbody>\n",
       "    <tr>\n",
       "      <th>13</th>\n",
       "      <td>2002.0</td>\n",
       "      <td>9.0</td>\n",
       "      <td>31.949121</td>\n",
       "      <td>88.126500</td>\n",
       "      <td>2.758339</td>\n",
       "      <td>2.642938</td>\n",
       "      <td>0.670044</td>\n",
       "      <td>2002-09-30</td>\n",
       "      <td>0.0394</td>\n",
       "      <td>0.630644</td>\n",
       "    </tr>\n",
       "    <tr>\n",
       "      <th>14</th>\n",
       "      <td>2002.0</td>\n",
       "      <td>10.0</td>\n",
       "      <td>32.468476</td>\n",
       "      <td>93.917391</td>\n",
       "      <td>2.892572</td>\n",
       "      <td>2.758339</td>\n",
       "      <td>0.768635</td>\n",
       "      <td>2002-10-31</td>\n",
       "      <td>0.0405</td>\n",
       "      <td>0.728135</td>\n",
       "    </tr>\n",
       "    <tr>\n",
       "      <th>15</th>\n",
       "      <td>2002.0</td>\n",
       "      <td>11.0</td>\n",
       "      <td>32.885922</td>\n",
       "      <td>109.876000</td>\n",
       "      <td>3.341126</td>\n",
       "      <td>2.892572</td>\n",
       "      <td>4.640329</td>\n",
       "      <td>2002-11-30</td>\n",
       "      <td>0.0403</td>\n",
       "      <td>4.600029</td>\n",
       "    </tr>\n",
       "    <tr>\n",
       "      <th>16</th>\n",
       "      <td>2002.0</td>\n",
       "      <td>12.0</td>\n",
       "      <td>27.761554</td>\n",
       "      <td>110.167143</td>\n",
       "      <td>3.968335</td>\n",
       "      <td>3.341126</td>\n",
       "      <td>6.881082</td>\n",
       "      <td>2002-12-31</td>\n",
       "      <td>0.0405</td>\n",
       "      <td>6.840582</td>\n",
       "    </tr>\n",
       "    <tr>\n",
       "      <th>19</th>\n",
       "      <td>2003.0</td>\n",
       "      <td>3.0</td>\n",
       "      <td>23.802203</td>\n",
       "      <td>91.600476</td>\n",
       "      <td>3.848403</td>\n",
       "      <td>3.728764</td>\n",
       "      <td>0.460793</td>\n",
       "      <td>2003-03-31</td>\n",
       "      <td>0.0396</td>\n",
       "      <td>0.421193</td>\n",
       "    </tr>\n",
       "    <tr>\n",
       "      <th>...</th>\n",
       "      <td>...</td>\n",
       "      <td>...</td>\n",
       "      <td>...</td>\n",
       "      <td>...</td>\n",
       "      <td>...</td>\n",
       "      <td>...</td>\n",
       "      <td>...</td>\n",
       "      <td>...</td>\n",
       "      <td>...</td>\n",
       "      <td>...</td>\n",
       "    </tr>\n",
       "    <tr>\n",
       "      <th>225</th>\n",
       "      <td>2020.0</td>\n",
       "      <td>5.0</td>\n",
       "      <td>29.710355</td>\n",
       "      <td>174.436000</td>\n",
       "      <td>5.871219</td>\n",
       "      <td>5.854885</td>\n",
       "      <td>0.033997</td>\n",
       "      <td>2020-05-31</td>\n",
       "      <td>0.0073</td>\n",
       "      <td>0.026697</td>\n",
       "    </tr>\n",
       "    <tr>\n",
       "      <th>233</th>\n",
       "      <td>2021.0</td>\n",
       "      <td>1.0</td>\n",
       "      <td>40.843831</td>\n",
       "      <td>220.130526</td>\n",
       "      <td>5.389566</td>\n",
       "      <td>5.376408</td>\n",
       "      <td>0.029766</td>\n",
       "      <td>2021-01-31</td>\n",
       "      <td>0.0126</td>\n",
       "      <td>0.017166</td>\n",
       "    </tr>\n",
       "    <tr>\n",
       "      <th>234</th>\n",
       "      <td>2021.0</td>\n",
       "      <td>2.0</td>\n",
       "      <td>41.685345</td>\n",
       "      <td>234.475263</td>\n",
       "      <td>5.624885</td>\n",
       "      <td>5.389566</td>\n",
       "      <td>0.670006</td>\n",
       "      <td>2021-02-28</td>\n",
       "      <td>0.0161</td>\n",
       "      <td>0.653906</td>\n",
       "    </tr>\n",
       "    <tr>\n",
       "      <th>235</th>\n",
       "      <td>2021.0</td>\n",
       "      <td>3.0</td>\n",
       "      <td>41.864284</td>\n",
       "      <td>238.392609</td>\n",
       "      <td>5.694415</td>\n",
       "      <td>5.624885</td>\n",
       "      <td>0.158846</td>\n",
       "      <td>2021-03-31</td>\n",
       "      <td>0.0164</td>\n",
       "      <td>0.142446</td>\n",
       "    </tr>\n",
       "    <tr>\n",
       "      <th>236</th>\n",
       "      <td>2021.0</td>\n",
       "      <td>4.0</td>\n",
       "      <td>42.774136</td>\n",
       "      <td>251.040000</td>\n",
       "      <td>5.868967</td>\n",
       "      <td>5.694415</td>\n",
       "      <td>0.436649</td>\n",
       "      <td>2021-04-30</td>\n",
       "      <td>0.0162</td>\n",
       "      <td>0.420449</td>\n",
       "    </tr>\n",
       "  </tbody>\n",
       "</table>\n",
       "<p>98 rows × 10 columns</p>\n",
       "</div>"
      ],
      "text/plain": [
       "       Year  Month         PE       Value  m_earnings    prev_m  EPS_growth  \\\n",
       "13   2002.0    9.0  31.949121   88.126500    2.758339  2.642938    0.670044   \n",
       "14   2002.0   10.0  32.468476   93.917391    2.892572  2.758339    0.768635   \n",
       "15   2002.0   11.0  32.885922  109.876000    3.341126  2.892572    4.640329   \n",
       "16   2002.0   12.0  27.761554  110.167143    3.968335  3.341126    6.881082   \n",
       "19   2003.0    3.0  23.802203   91.600476    3.848403  3.728764    0.460793   \n",
       "..      ...    ...        ...         ...         ...       ...         ...   \n",
       "225  2020.0    5.0  29.710355  174.436000    5.871219  5.854885    0.033997   \n",
       "233  2021.0    1.0  40.843831  220.130526    5.389566  5.376408    0.029766   \n",
       "234  2021.0    2.0  41.685345  234.475263    5.624885  5.389566    0.670006   \n",
       "235  2021.0    3.0  41.864284  238.392609    5.694415  5.624885    0.158846   \n",
       "236  2021.0    4.0  42.774136  251.040000    5.868967  5.694415    0.436649   \n",
       "\n",
       "          DATE    GS10  final_EPS_growth  \n",
       "13  2002-09-30  0.0394          0.630644  \n",
       "14  2002-10-31  0.0405          0.728135  \n",
       "15  2002-11-30  0.0403          4.600029  \n",
       "16  2002-12-31  0.0405          6.840582  \n",
       "19  2003-03-31  0.0396          0.421193  \n",
       "..         ...     ...               ...  \n",
       "225 2020-05-31  0.0073          0.026697  \n",
       "233 2021-01-31  0.0126          0.017166  \n",
       "234 2021-02-28  0.0161          0.653906  \n",
       "235 2021-03-31  0.0164          0.142446  \n",
       "236 2021-04-30  0.0162          0.420449  \n",
       "\n",
       "[98 rows x 10 columns]"
      ]
     },
     "execution_count": 16,
     "metadata": {},
     "output_type": "execute_result"
    }
   ],
   "source": [
    "# 132 positive growths out of the rest\n",
    "new_joined[new_joined['final_EPS_growth'] > 0]"
   ]
  },
  {
   "cell_type": "code",
   "execution_count": 17,
   "metadata": {},
   "outputs": [
    {
     "data": {
      "text/plain": [
       "Year                       float64\n",
       "Month                      float64\n",
       "PE                         float64\n",
       "Value                      float64\n",
       "m_earnings                 float64\n",
       "prev_m                     float64\n",
       "EPS_growth                 float64\n",
       "DATE                datetime64[ns]\n",
       "GS10                       float64\n",
       "final_EPS_growth           float64\n",
       "dtype: object"
      ]
     },
     "execution_count": 17,
     "metadata": {},
     "output_type": "execute_result"
    }
   ],
   "source": [
    "new_joined.dtypes"
   ]
  },
  {
   "cell_type": "code",
   "execution_count": 18,
   "metadata": {},
   "outputs": [
    {
     "data": {
      "text/plain": [
       "<AxesSubplot:xlabel='DATE'>"
      ]
     },
     "execution_count": 18,
     "metadata": {},
     "output_type": "execute_result"
    },
    {
     "data": {
      "image/png": "[encoded data removed]",
      "text/plain": [
       "<Figure size 432x288 with 1 Axes>"
      ]
     },
     "metadata": {
      "needs_background": "light"
     },
     "output_type": "display_data"
    }
   ],
   "source": [
    "new_joined.loc[1:,['DATE','final_EPS_growth']].set_index('DATE').plot()"
   ]
  },
  {
   "cell_type": "code",
   "execution_count": 19,
   "metadata": {},
   "outputs": [],
   "source": [
    "new_joined.to_csv('new_joined.csv')"
   ]
  },
  {
   "cell_type": "code",
   "execution_count": 20,
   "metadata": {},
   "outputs": [],
   "source": [
    "final_df = pd.read_csv('new_joined_cap.csv')"
   ]
  },
  {
   "cell_type": "code",
   "execution_count": 21,
   "metadata": {},
   "outputs": [],
   "source": [
    "final_df['DATE'] = pd.to_datetime(final_df['DATE'])"
   ]
  },
  {
   "cell_type": "code",
   "execution_count": 22,
   "metadata": {},
   "outputs": [
    {
     "data": {
      "text/plain": [
       "<AxesSubplot:xlabel='DATE'>"
      ]
     },
     "execution_count": 22,
     "metadata": {},
     "output_type": "execute_result"
    },
    {
     "data": {
      "image/png": "[encoded data removed]",
      "text/plain": [
       "<Figure size 432x288 with 1 Axes>"
      ]
     },
     "metadata": {
      "needs_background": "light"
     },
     "output_type": "display_data"
    }
   ],
   "source": [
    "final_df.loc[1:,['DATE','final_EPS_growth']].set_index('DATE').plot()"
   ]
  },
  {
   "cell_type": "markdown",
   "metadata": {},
   "source": [
    "Create placeholder columns for independent variables\n"
   ]
  },
  {
   "cell_type": "code",
   "execution_count": 23,
   "metadata": {},
   "outputs": [],
   "source": [
    "final_df['ppi_cable'] = None\n",
    "final_df['ppi_wireline'] = None\n",
    "final_df['ppi_tele_app'] = None\n",
    "final_df['tele_import'] = None\n",
    "final_df['tele_export'] = None"
   ]
  },
  {
   "cell_type": "markdown",
   "metadata": {},
   "source": [
    "Create placeholder columns for dependent variables, which are future 12-month EPS growth rate"
   ]
  },
  {
   "cell_type": "code",
   "execution_count": 24,
   "metadata": {},
   "outputs": [],
   "source": [
    "final_df['EPS_1'] = None\n",
    "final_df['EPS_2'] = None\n",
    "final_df['EPS_3'] = None\n",
    "final_df['EPS_4'] = None\n",
    "final_df['EPS_5'] = None\n",
    "final_df['EPS_6'] = None\n",
    "final_df['EPS_7'] = None\n",
    "final_df['EPS_8'] = None\n",
    "final_df['EPS_9'] = None\n",
    "final_df['EPS_10'] = None\n",
    "final_df['EPS_11'] = None\n",
    "final_df['EPS_12'] = None"
   ]
  },
  {
   "cell_type": "code",
   "execution_count": 25,
   "metadata": {},
   "outputs": [],
   "source": [
    "# convert to proper types\n",
    "final_df['EPS_1'] = final_df['EPS_1'].astype(float)\n",
    "final_df['EPS_2'] = final_df['EPS_2'].astype(float)\n",
    "final_df['EPS_3'] = final_df['EPS_3'].astype(float)\n",
    "final_df['EPS_4'] = final_df['EPS_4'].astype(float)\n",
    "final_df['EPS_5'] = final_df['EPS_5'].astype(float)\n",
    "final_df['EPS_6'] = final_df['EPS_6'].astype(float)\n",
    "final_df['EPS_7'] = final_df['EPS_7'].astype(float)\n",
    "final_df['EPS_8'] = final_df['EPS_8'].astype(float)\n",
    "final_df['EPS_9'] = final_df['EPS_9'].astype(float)\n",
    "final_df['EPS_10'] = final_df['EPS_10'].astype(float)\n",
    "final_df['EPS_11'] = final_df['EPS_11'].astype(float)\n",
    "final_df['EPS_12'] = final_df['EPS_12'].astype(float)\n",
    "\n",
    "final_df['ppi_cable'] = final_df['ppi_cable'].astype(float)\n",
    "final_df['ppi_wireline'] = final_df['ppi_wireline'].astype(float)\n",
    "final_df['ppi_tele_app'] = final_df['ppi_tele_app'].astype(float)\n",
    "final_df['tele_import'] = final_df['tele_import'].astype(float)\n",
    "final_df['tele_export'] = final_df['tele_export'].astype(float)\n",
    "final_df['final_EPS_growth'] = final_df['final_EPS_growth'].astype(float)"
   ]
  },
  {
   "cell_type": "code",
   "execution_count": 26,
   "metadata": {},
   "outputs": [],
   "source": [
    "# fill the future 12 monthly eps growths\n",
    "for index, row in final_df.iterrows():\n",
    "    if row['DATE'] > pd.Timestamp(year=2020, month=4, day=30, hour=0):\n",
    "        break\n",
    "    i = 1\n",
    "    for i2, row2 in final_df.iterrows():\n",
    "        if row2['DATE'] > row['DATE']:\n",
    "            col_name = 'EPS_' + str(i)\n",
    "            final_df.at[index, col_name] = row2['final_EPS_growth']\n",
    "            i+=1\n",
    "            if(i > 12):\n",
    "                break"
   ]
  },
  {
   "cell_type": "code",
   "execution_count": 27,
   "metadata": {},
   "outputs": [
    {
     "data": {
      "text/html": [
       "<div>\n",
       "<style scoped>\n",
       "    .dataframe tbody tr th:only-of-type {\n",
       "        vertical-align: middle;\n",
       "    }\n",
       "\n",
       "    .dataframe tbody tr th {\n",
       "        vertical-align: top;\n",
       "    }\n",
       "\n",
       "    .dataframe thead th {\n",
       "        text-align: right;\n",
       "    }\n",
       "</style>\n",
       "<table border=\"1\" class=\"dataframe\">\n",
       "  <thead>\n",
       "    <tr style=\"text-align: right;\">\n",
       "      <th></th>\n",
       "      <th>Unnamed: 0</th>\n",
       "      <th>Year</th>\n",
       "      <th>Month</th>\n",
       "      <th>PE</th>\n",
       "      <th>Value</th>\n",
       "      <th>m_earnings</th>\n",
       "      <th>prev_m</th>\n",
       "      <th>EPS_growth</th>\n",
       "      <th>DATE</th>\n",
       "      <th>GS10</th>\n",
       "      <th>...</th>\n",
       "      <th>EPS_3</th>\n",
       "      <th>EPS_4</th>\n",
       "      <th>EPS_5</th>\n",
       "      <th>EPS_6</th>\n",
       "      <th>EPS_7</th>\n",
       "      <th>EPS_8</th>\n",
       "      <th>EPS_9</th>\n",
       "      <th>EPS_10</th>\n",
       "      <th>EPS_11</th>\n",
       "      <th>EPS_12</th>\n",
       "    </tr>\n",
       "  </thead>\n",
       "  <tbody>\n",
       "    <tr>\n",
       "      <th>0</th>\n",
       "      <td>0</td>\n",
       "      <td>2001</td>\n",
       "      <td>8</td>\n",
       "      <td>21.357323</td>\n",
       "      <td>186.393478</td>\n",
       "      <td>8.727380</td>\n",
       "      <td>NaN</td>\n",
       "      <td>NaN</td>\n",
       "      <td>2001-08-31</td>\n",
       "      <td>0.0473</td>\n",
       "      <td>...</td>\n",
       "      <td>-0.253604</td>\n",
       "      <td>-0.224801</td>\n",
       "      <td>-0.088894</td>\n",
       "      <td>-0.103775</td>\n",
       "      <td>-0.751221</td>\n",
       "      <td>-1.027059</td>\n",
       "      <td>-1.042693</td>\n",
       "      <td>-0.908506</td>\n",
       "      <td>-0.310953</td>\n",
       "      <td>-0.695266</td>\n",
       "    </tr>\n",
       "    <tr>\n",
       "      <th>1</th>\n",
       "      <td>1</td>\n",
       "      <td>2001</td>\n",
       "      <td>9</td>\n",
       "      <td>21.544017</td>\n",
       "      <td>180.474000</td>\n",
       "      <td>8.376989</td>\n",
       "      <td>8.727380</td>\n",
       "      <td>-0.388426</td>\n",
       "      <td>2001-09-30</td>\n",
       "      <td>0.0457</td>\n",
       "      <td>...</td>\n",
       "      <td>-0.224801</td>\n",
       "      <td>-0.088894</td>\n",
       "      <td>-0.103775</td>\n",
       "      <td>-0.751221</td>\n",
       "      <td>-1.027059</td>\n",
       "      <td>-1.042693</td>\n",
       "      <td>-0.908506</td>\n",
       "      <td>-0.310953</td>\n",
       "      <td>-0.695266</td>\n",
       "      <td>0.630644</td>\n",
       "    </tr>\n",
       "    <tr>\n",
       "      <th>2</th>\n",
       "      <td>2</td>\n",
       "      <td>2001</td>\n",
       "      <td>10</td>\n",
       "      <td>21.277821</td>\n",
       "      <td>177.617391</td>\n",
       "      <td>8.347537</td>\n",
       "      <td>8.376989</td>\n",
       "      <td>-0.041385</td>\n",
       "      <td>2001-10-31</td>\n",
       "      <td>0.0465</td>\n",
       "      <td>...</td>\n",
       "      <td>-0.088894</td>\n",
       "      <td>-0.103775</td>\n",
       "      <td>-0.751221</td>\n",
       "      <td>-1.027059</td>\n",
       "      <td>-1.042693</td>\n",
       "      <td>-0.908506</td>\n",
       "      <td>-0.310953</td>\n",
       "      <td>-0.695266</td>\n",
       "      <td>0.630644</td>\n",
       "      <td>0.728135</td>\n",
       "    </tr>\n",
       "    <tr>\n",
       "      <th>3</th>\n",
       "      <td>3</td>\n",
       "      <td>2001</td>\n",
       "      <td>11</td>\n",
       "      <td>20.492719</td>\n",
       "      <td>167.864762</td>\n",
       "      <td>8.191434</td>\n",
       "      <td>8.347537</td>\n",
       "      <td>-0.202704</td>\n",
       "      <td>2001-11-30</td>\n",
       "      <td>0.0509</td>\n",
       "      <td>...</td>\n",
       "      <td>-0.103775</td>\n",
       "      <td>-0.751221</td>\n",
       "      <td>-1.027059</td>\n",
       "      <td>-1.042693</td>\n",
       "      <td>-0.908506</td>\n",
       "      <td>-0.310953</td>\n",
       "      <td>-0.695266</td>\n",
       "      <td>0.630644</td>\n",
       "      <td>0.728135</td>\n",
       "      <td>4.600029</td>\n",
       "    </tr>\n",
       "    <tr>\n",
       "      <th>4</th>\n",
       "      <td>4</td>\n",
       "      <td>2001</td>\n",
       "      <td>12</td>\n",
       "      <td>20.718582</td>\n",
       "      <td>167.026000</td>\n",
       "      <td>8.061652</td>\n",
       "      <td>8.191434</td>\n",
       "      <td>-0.174401</td>\n",
       "      <td>2001-12-31</td>\n",
       "      <td>0.0504</td>\n",
       "      <td>...</td>\n",
       "      <td>-0.751221</td>\n",
       "      <td>-1.027059</td>\n",
       "      <td>-1.042693</td>\n",
       "      <td>-0.908506</td>\n",
       "      <td>-0.310953</td>\n",
       "      <td>-0.695266</td>\n",
       "      <td>0.630644</td>\n",
       "      <td>0.728135</td>\n",
       "      <td>4.600029</td>\n",
       "      <td>5.000000</td>\n",
       "    </tr>\n",
       "    <tr>\n",
       "      <th>...</th>\n",
       "      <td>...</td>\n",
       "      <td>...</td>\n",
       "      <td>...</td>\n",
       "      <td>...</td>\n",
       "      <td>...</td>\n",
       "      <td>...</td>\n",
       "      <td>...</td>\n",
       "      <td>...</td>\n",
       "      <td>...</td>\n",
       "      <td>...</td>\n",
       "      <td>...</td>\n",
       "      <td>...</td>\n",
       "      <td>...</td>\n",
       "      <td>...</td>\n",
       "      <td>...</td>\n",
       "      <td>...</td>\n",
       "      <td>...</td>\n",
       "      <td>...</td>\n",
       "      <td>...</td>\n",
       "      <td>...</td>\n",
       "      <td>...</td>\n",
       "    </tr>\n",
       "    <tr>\n",
       "      <th>232</th>\n",
       "      <td>232</td>\n",
       "      <td>2020</td>\n",
       "      <td>12</td>\n",
       "      <td>40.964319</td>\n",
       "      <td>220.240909</td>\n",
       "      <td>5.376408</td>\n",
       "      <td>5.412921</td>\n",
       "      <td>-0.078009</td>\n",
       "      <td>2020-12-31</td>\n",
       "      <td>0.0108</td>\n",
       "      <td>...</td>\n",
       "      <td>NaN</td>\n",
       "      <td>NaN</td>\n",
       "      <td>NaN</td>\n",
       "      <td>NaN</td>\n",
       "      <td>NaN</td>\n",
       "      <td>NaN</td>\n",
       "      <td>NaN</td>\n",
       "      <td>NaN</td>\n",
       "      <td>NaN</td>\n",
       "      <td>NaN</td>\n",
       "    </tr>\n",
       "    <tr>\n",
       "      <th>233</th>\n",
       "      <td>233</td>\n",
       "      <td>2021</td>\n",
       "      <td>1</td>\n",
       "      <td>40.843831</td>\n",
       "      <td>220.130526</td>\n",
       "      <td>5.389566</td>\n",
       "      <td>5.376408</td>\n",
       "      <td>0.029766</td>\n",
       "      <td>2021-01-31</td>\n",
       "      <td>0.0126</td>\n",
       "      <td>...</td>\n",
       "      <td>NaN</td>\n",
       "      <td>NaN</td>\n",
       "      <td>NaN</td>\n",
       "      <td>NaN</td>\n",
       "      <td>NaN</td>\n",
       "      <td>NaN</td>\n",
       "      <td>NaN</td>\n",
       "      <td>NaN</td>\n",
       "      <td>NaN</td>\n",
       "      <td>NaN</td>\n",
       "    </tr>\n",
       "    <tr>\n",
       "      <th>234</th>\n",
       "      <td>234</td>\n",
       "      <td>2021</td>\n",
       "      <td>2</td>\n",
       "      <td>41.685345</td>\n",
       "      <td>234.475263</td>\n",
       "      <td>5.624885</td>\n",
       "      <td>5.389566</td>\n",
       "      <td>0.670006</td>\n",
       "      <td>2021-02-28</td>\n",
       "      <td>0.0161</td>\n",
       "      <td>...</td>\n",
       "      <td>NaN</td>\n",
       "      <td>NaN</td>\n",
       "      <td>NaN</td>\n",
       "      <td>NaN</td>\n",
       "      <td>NaN</td>\n",
       "      <td>NaN</td>\n",
       "      <td>NaN</td>\n",
       "      <td>NaN</td>\n",
       "      <td>NaN</td>\n",
       "      <td>NaN</td>\n",
       "    </tr>\n",
       "    <tr>\n",
       "      <th>235</th>\n",
       "      <td>235</td>\n",
       "      <td>2021</td>\n",
       "      <td>3</td>\n",
       "      <td>41.864284</td>\n",
       "      <td>238.392609</td>\n",
       "      <td>5.694415</td>\n",
       "      <td>5.624885</td>\n",
       "      <td>0.158846</td>\n",
       "      <td>2021-03-31</td>\n",
       "      <td>0.0164</td>\n",
       "      <td>...</td>\n",
       "      <td>NaN</td>\n",
       "      <td>NaN</td>\n",
       "      <td>NaN</td>\n",
       "      <td>NaN</td>\n",
       "      <td>NaN</td>\n",
       "      <td>NaN</td>\n",
       "      <td>NaN</td>\n",
       "      <td>NaN</td>\n",
       "      <td>NaN</td>\n",
       "      <td>NaN</td>\n",
       "    </tr>\n",
       "    <tr>\n",
       "      <th>236</th>\n",
       "      <td>236</td>\n",
       "      <td>2021</td>\n",
       "      <td>4</td>\n",
       "      <td>42.774136</td>\n",
       "      <td>251.040000</td>\n",
       "      <td>5.868967</td>\n",
       "      <td>5.694415</td>\n",
       "      <td>0.436649</td>\n",
       "      <td>2021-04-30</td>\n",
       "      <td>0.0162</td>\n",
       "      <td>...</td>\n",
       "      <td>NaN</td>\n",
       "      <td>NaN</td>\n",
       "      <td>NaN</td>\n",
       "      <td>NaN</td>\n",
       "      <td>NaN</td>\n",
       "      <td>NaN</td>\n",
       "      <td>NaN</td>\n",
       "      <td>NaN</td>\n",
       "      <td>NaN</td>\n",
       "      <td>NaN</td>\n",
       "    </tr>\n",
       "  </tbody>\n",
       "</table>\n",
       "<p>237 rows × 28 columns</p>\n",
       "</div>"
      ],
      "text/plain": [
       "     Unnamed: 0  Year  Month         PE       Value  m_earnings    prev_m  \\\n",
       "0             0  2001      8  21.357323  186.393478    8.727380       NaN   \n",
       "1             1  2001      9  21.544017  180.474000    8.376989  8.727380   \n",
       "2             2  2001     10  21.277821  177.617391    8.347537  8.376989   \n",
       "3             3  2001     11  20.492719  167.864762    8.191434  8.347537   \n",
       "4             4  2001     12  20.718582  167.026000    8.061652  8.191434   \n",
       "..          ...   ...    ...        ...         ...         ...       ...   \n",
       "232         232  2020     12  40.964319  220.240909    5.376408  5.412921   \n",
       "233         233  2021      1  40.843831  220.130526    5.389566  5.376408   \n",
       "234         234  2021      2  41.685345  234.475263    5.624885  5.389566   \n",
       "235         235  2021      3  41.864284  238.392609    5.694415  5.624885   \n",
       "236         236  2021      4  42.774136  251.040000    5.868967  5.694415   \n",
       "\n",
       "     EPS_growth       DATE    GS10  ...     EPS_3     EPS_4     EPS_5  \\\n",
       "0           NaN 2001-08-31  0.0473  ... -0.253604 -0.224801 -0.088894   \n",
       "1     -0.388426 2001-09-30  0.0457  ... -0.224801 -0.088894 -0.103775   \n",
       "2     -0.041385 2001-10-31  0.0465  ... -0.088894 -0.103775 -0.751221   \n",
       "3     -0.202704 2001-11-30  0.0509  ... -0.103775 -0.751221 -1.027059   \n",
       "4     -0.174401 2001-12-31  0.0504  ... -0.751221 -1.027059 -1.042693   \n",
       "..          ...        ...     ...  ...       ...       ...       ...   \n",
       "232   -0.078009 2020-12-31  0.0108  ...       NaN       NaN       NaN   \n",
       "233    0.029766 2021-01-31  0.0126  ...       NaN       NaN       NaN   \n",
       "234    0.670006 2021-02-28  0.0161  ...       NaN       NaN       NaN   \n",
       "235    0.158846 2021-03-31  0.0164  ...       NaN       NaN       NaN   \n",
       "236    0.436649 2021-04-30  0.0162  ...       NaN       NaN       NaN   \n",
       "\n",
       "        EPS_6     EPS_7     EPS_8     EPS_9    EPS_10    EPS_11    EPS_12  \n",
       "0   -0.103775 -0.751221 -1.027059 -1.042693 -0.908506 -0.310953 -0.695266  \n",
       "1   -0.751221 -1.027059 -1.042693 -0.908506 -0.310953 -0.695266  0.630644  \n",
       "2   -1.027059 -1.042693 -0.908506 -0.310953 -0.695266  0.630644  0.728135  \n",
       "3   -1.042693 -0.908506 -0.310953 -0.695266  0.630644  0.728135  4.600029  \n",
       "4   -0.908506 -0.310953 -0.695266  0.630644  0.728135  4.600029  5.000000  \n",
       "..        ...       ...       ...       ...       ...       ...       ...  \n",
       "232       NaN       NaN       NaN       NaN       NaN       NaN       NaN  \n",
       "233       NaN       NaN       NaN       NaN       NaN       NaN       NaN  \n",
       "234       NaN       NaN       NaN       NaN       NaN       NaN       NaN  \n",
       "235       NaN       NaN       NaN       NaN       NaN       NaN       NaN  \n",
       "236       NaN       NaN       NaN       NaN       NaN       NaN       NaN  \n",
       "\n",
       "[237 rows x 28 columns]"
      ]
     },
     "execution_count": 27,
     "metadata": {},
     "output_type": "execute_result"
    }
   ],
   "source": [
    "final_df"
   ]
  },
  {
   "cell_type": "markdown",
   "metadata": {},
   "source": [
    "### Load independ variables"
   ]
  },
  {
   "cell_type": "markdown",
   "metadata": {},
   "source": [
    "Fill in the independent variables by:\n",
    "- finding the fed/pmi/consumer/bci that is 1) earlier than the timestamp, and 2) second closest to the timestamp"
   ]
  },
  {
   "cell_type": "code",
   "execution_count": 44,
   "metadata": {},
   "outputs": [
    {
     "ename": "FileNotFoundError",
     "evalue": "[Errno 2] No such file or directory: 'final_df_new.csv'",
     "output_type": "error",
     "traceback": [
      "\u001b[0;31m---------------------------------------------------------------------------\u001b[0m",
      "\u001b[0;31mFileNotFoundError\u001b[0m                         Traceback (most recent call last)",
      "\u001b[0;32m<ipython-input-44-be3f5a8e1db9>\u001b[0m in \u001b[0;36m<module>\u001b[0;34m\u001b[0m\n\u001b[0;32m----> 1\u001b[0;31m \u001b[0mfinal_df\u001b[0m \u001b[0;34m=\u001b[0m \u001b[0mpd\u001b[0m\u001b[0;34m.\u001b[0m\u001b[0mread_csv\u001b[0m\u001b[0;34m(\u001b[0m\u001b[0;34m'final_df_new.csv'\u001b[0m\u001b[0;34m)\u001b[0m\u001b[0;34m\u001b[0m\u001b[0;34m\u001b[0m\u001b[0m\n\u001b[0m\u001b[1;32m      2\u001b[0m \u001b[0mfinal_df\u001b[0m\u001b[0;34m\u001b[0m\u001b[0;34m\u001b[0m\u001b[0m\n",
      "\u001b[0;32m/opt/anaconda3/lib/python3.8/site-packages/pandas/io/parsers.py\u001b[0m in \u001b[0;36mread_csv\u001b[0;34m(filepath_or_buffer, sep, delimiter, header, names, index_col, usecols, squeeze, prefix, mangle_dupe_cols, dtype, engine, converters, true_values, false_values, skipinitialspace, skiprows, skipfooter, nrows, na_values, keep_default_na, na_filter, verbose, skip_blank_lines, parse_dates, infer_datetime_format, keep_date_col, date_parser, dayfirst, cache_dates, iterator, chunksize, compression, thousands, decimal, lineterminator, quotechar, quoting, doublequote, escapechar, comment, encoding, dialect, error_bad_lines, warn_bad_lines, delim_whitespace, low_memory, memory_map, float_precision)\u001b[0m\n\u001b[1;32m    684\u001b[0m     )\n\u001b[1;32m    685\u001b[0m \u001b[0;34m\u001b[0m\u001b[0m\n\u001b[0;32m--> 686\u001b[0;31m     \u001b[0;32mreturn\u001b[0m \u001b[0m_read\u001b[0m\u001b[0;34m(\u001b[0m\u001b[0mfilepath_or_buffer\u001b[0m\u001b[0;34m,\u001b[0m \u001b[0mkwds\u001b[0m\u001b[0;34m)\u001b[0m\u001b[0;34m\u001b[0m\u001b[0;34m\u001b[0m\u001b[0m\n\u001b[0m\u001b[1;32m    687\u001b[0m \u001b[0;34m\u001b[0m\u001b[0m\n\u001b[1;32m    688\u001b[0m \u001b[0;34m\u001b[0m\u001b[0m\n",
      "\u001b[0;32m/opt/anaconda3/lib/python3.8/site-packages/pandas/io/parsers.py\u001b[0m in \u001b[0;36m_read\u001b[0;34m(filepath_or_buffer, kwds)\u001b[0m\n\u001b[1;32m    450\u001b[0m \u001b[0;34m\u001b[0m\u001b[0m\n\u001b[1;32m    451\u001b[0m     \u001b[0;31m# Create the parser.\u001b[0m\u001b[0;34m\u001b[0m\u001b[0;34m\u001b[0m\u001b[0;34m\u001b[0m\u001b[0m\n\u001b[0;32m--> 452\u001b[0;31m     \u001b[0mparser\u001b[0m \u001b[0;34m=\u001b[0m \u001b[0mTextFileReader\u001b[0m\u001b[0;34m(\u001b[0m\u001b[0mfp_or_buf\u001b[0m\u001b[0;34m,\u001b[0m \u001b[0;34m**\u001b[0m\u001b[0mkwds\u001b[0m\u001b[0;34m)\u001b[0m\u001b[0;34m\u001b[0m\u001b[0;34m\u001b[0m\u001b[0m\n\u001b[0m\u001b[1;32m    453\u001b[0m \u001b[0;34m\u001b[0m\u001b[0m\n\u001b[1;32m    454\u001b[0m     \u001b[0;32mif\u001b[0m \u001b[0mchunksize\u001b[0m \u001b[0;32mor\u001b[0m \u001b[0miterator\u001b[0m\u001b[0;34m:\u001b[0m\u001b[0;34m\u001b[0m\u001b[0;34m\u001b[0m\u001b[0m\n",
      "\u001b[0;32m/opt/anaconda3/lib/python3.8/site-packages/pandas/io/parsers.py\u001b[0m in \u001b[0;36m__init__\u001b[0;34m(self, f, engine, **kwds)\u001b[0m\n\u001b[1;32m    944\u001b[0m             \u001b[0mself\u001b[0m\u001b[0;34m.\u001b[0m\u001b[0moptions\u001b[0m\u001b[0;34m[\u001b[0m\u001b[0;34m\"has_index_names\"\u001b[0m\u001b[0;34m]\u001b[0m \u001b[0;34m=\u001b[0m \u001b[0mkwds\u001b[0m\u001b[0;34m[\u001b[0m\u001b[0;34m\"has_index_names\"\u001b[0m\u001b[0;34m]\u001b[0m\u001b[0;34m\u001b[0m\u001b[0;34m\u001b[0m\u001b[0m\n\u001b[1;32m    945\u001b[0m \u001b[0;34m\u001b[0m\u001b[0m\n\u001b[0;32m--> 946\u001b[0;31m         \u001b[0mself\u001b[0m\u001b[0;34m.\u001b[0m\u001b[0m_make_engine\u001b[0m\u001b[0;34m(\u001b[0m\u001b[0mself\u001b[0m\u001b[0;34m.\u001b[0m\u001b[0mengine\u001b[0m\u001b[0;34m)\u001b[0m\u001b[0;34m\u001b[0m\u001b[0;34m\u001b[0m\u001b[0m\n\u001b[0m\u001b[1;32m    947\u001b[0m \u001b[0;34m\u001b[0m\u001b[0m\n\u001b[1;32m    948\u001b[0m     \u001b[0;32mdef\u001b[0m \u001b[0mclose\u001b[0m\u001b[0;34m(\u001b[0m\u001b[0mself\u001b[0m\u001b[0;34m)\u001b[0m\u001b[0;34m:\u001b[0m\u001b[0;34m\u001b[0m\u001b[0;34m\u001b[0m\u001b[0m\n",
      "\u001b[0;32m/opt/anaconda3/lib/python3.8/site-packages/pandas/io/parsers.py\u001b[0m in \u001b[0;36m_make_engine\u001b[0;34m(self, engine)\u001b[0m\n\u001b[1;32m   1176\u001b[0m     \u001b[0;32mdef\u001b[0m \u001b[0m_make_engine\u001b[0m\u001b[0;34m(\u001b[0m\u001b[0mself\u001b[0m\u001b[0;34m,\u001b[0m \u001b[0mengine\u001b[0m\u001b[0;34m=\u001b[0m\u001b[0;34m\"c\"\u001b[0m\u001b[0;34m)\u001b[0m\u001b[0;34m:\u001b[0m\u001b[0;34m\u001b[0m\u001b[0;34m\u001b[0m\u001b[0m\n\u001b[1;32m   1177\u001b[0m         \u001b[0;32mif\u001b[0m \u001b[0mengine\u001b[0m \u001b[0;34m==\u001b[0m \u001b[0;34m\"c\"\u001b[0m\u001b[0;34m:\u001b[0m\u001b[0;34m\u001b[0m\u001b[0;34m\u001b[0m\u001b[0m\n\u001b[0;32m-> 1178\u001b[0;31m             \u001b[0mself\u001b[0m\u001b[0;34m.\u001b[0m\u001b[0m_engine\u001b[0m \u001b[0;34m=\u001b[0m \u001b[0mCParserWrapper\u001b[0m\u001b[0;34m(\u001b[0m\u001b[0mself\u001b[0m\u001b[0;34m.\u001b[0m\u001b[0mf\u001b[0m\u001b[0;34m,\u001b[0m \u001b[0;34m**\u001b[0m\u001b[0mself\u001b[0m\u001b[0;34m.\u001b[0m\u001b[0moptions\u001b[0m\u001b[0;34m)\u001b[0m\u001b[0;34m\u001b[0m\u001b[0;34m\u001b[0m\u001b[0m\n\u001b[0m\u001b[1;32m   1179\u001b[0m         \u001b[0;32melse\u001b[0m\u001b[0;34m:\u001b[0m\u001b[0;34m\u001b[0m\u001b[0;34m\u001b[0m\u001b[0m\n\u001b[1;32m   1180\u001b[0m             \u001b[0;32mif\u001b[0m \u001b[0mengine\u001b[0m \u001b[0;34m==\u001b[0m \u001b[0;34m\"python\"\u001b[0m\u001b[0;34m:\u001b[0m\u001b[0;34m\u001b[0m\u001b[0;34m\u001b[0m\u001b[0m\n",
      "\u001b[0;32m/opt/anaconda3/lib/python3.8/site-packages/pandas/io/parsers.py\u001b[0m in \u001b[0;36m__init__\u001b[0;34m(self, src, **kwds)\u001b[0m\n\u001b[1;32m   2006\u001b[0m         \u001b[0mkwds\u001b[0m\u001b[0;34m[\u001b[0m\u001b[0;34m\"usecols\"\u001b[0m\u001b[0;34m]\u001b[0m \u001b[0;34m=\u001b[0m \u001b[0mself\u001b[0m\u001b[0;34m.\u001b[0m\u001b[0musecols\u001b[0m\u001b[0;34m\u001b[0m\u001b[0;34m\u001b[0m\u001b[0m\n\u001b[1;32m   2007\u001b[0m \u001b[0;34m\u001b[0m\u001b[0m\n\u001b[0;32m-> 2008\u001b[0;31m         \u001b[0mself\u001b[0m\u001b[0;34m.\u001b[0m\u001b[0m_reader\u001b[0m \u001b[0;34m=\u001b[0m \u001b[0mparsers\u001b[0m\u001b[0;34m.\u001b[0m\u001b[0mTextReader\u001b[0m\u001b[0;34m(\u001b[0m\u001b[0msrc\u001b[0m\u001b[0;34m,\u001b[0m \u001b[0;34m**\u001b[0m\u001b[0mkwds\u001b[0m\u001b[0;34m)\u001b[0m\u001b[0;34m\u001b[0m\u001b[0;34m\u001b[0m\u001b[0m\n\u001b[0m\u001b[1;32m   2009\u001b[0m         \u001b[0mself\u001b[0m\u001b[0;34m.\u001b[0m\u001b[0munnamed_cols\u001b[0m \u001b[0;34m=\u001b[0m \u001b[0mself\u001b[0m\u001b[0;34m.\u001b[0m\u001b[0m_reader\u001b[0m\u001b[0;34m.\u001b[0m\u001b[0munnamed_cols\u001b[0m\u001b[0;34m\u001b[0m\u001b[0;34m\u001b[0m\u001b[0m\n\u001b[1;32m   2010\u001b[0m \u001b[0;34m\u001b[0m\u001b[0m\n",
      "\u001b[0;32mpandas/_libs/parsers.pyx\u001b[0m in \u001b[0;36mpandas._libs.parsers.TextReader.__cinit__\u001b[0;34m()\u001b[0m\n",
      "\u001b[0;32mpandas/_libs/parsers.pyx\u001b[0m in \u001b[0;36mpandas._libs.parsers.TextReader._setup_parser_source\u001b[0;34m()\u001b[0m\n",
      "\u001b[0;31mFileNotFoundError\u001b[0m: [Errno 2] No such file or directory: 'final_df_new.csv'"
     ]
    }
   ],
   "source": [
    "final_df = pd.read_csv('final_df_new.csv')\n",
    "final_df"
   ]
  },
  {
   "cell_type": "markdown",
   "metadata": {},
   "source": [
    "### Model Logic\n",
    "\n",
    "**1. Multi-step regression**: Using four predictor variables to predict 12-month ahead EPS growth concurrently \n",
    "\n",
    "**2. Target Variable**: For each month, the following 12 month EPS growth data are presented in the same row.\n",
    "\n",
    "**3. Independent Variables**: We are using information from the past to predict future EPS growth. The independent variables are lagged by one month due to delays in predictor announcement. \n",
    "\n"
   ]
  },
  {
   "cell_type": "code",
   "execution_count": 38,
   "metadata": {},
   "outputs": [
    {
     "data": {
      "text/html": [
       "<div>\n",
       "<style scoped>\n",
       "    .dataframe tbody tr th:only-of-type {\n",
       "        vertical-align: middle;\n",
       "    }\n",
       "\n",
       "    .dataframe tbody tr th {\n",
       "        vertical-align: top;\n",
       "    }\n",
       "\n",
       "    .dataframe thead th {\n",
       "        text-align: right;\n",
       "    }\n",
       "</style>\n",
       "<table border=\"1\" class=\"dataframe\">\n",
       "  <thead>\n",
       "    <tr style=\"text-align: right;\">\n",
       "      <th></th>\n",
       "      <th>Unnamed: 0</th>\n",
       "      <th>Unnamed: 0.1</th>\n",
       "      <th>Year</th>\n",
       "      <th>Month</th>\n",
       "      <th>PE</th>\n",
       "      <th>Value</th>\n",
       "      <th>m_earnings</th>\n",
       "      <th>prev_m</th>\n",
       "      <th>EPS_growth</th>\n",
       "      <th>DATE</th>\n",
       "      <th>...</th>\n",
       "      <th>EPS_3</th>\n",
       "      <th>EPS_4</th>\n",
       "      <th>EPS_5</th>\n",
       "      <th>EPS_6</th>\n",
       "      <th>EPS_7</th>\n",
       "      <th>EPS_8</th>\n",
       "      <th>EPS_9</th>\n",
       "      <th>EPS_10</th>\n",
       "      <th>EPS_11</th>\n",
       "      <th>EPS_12</th>\n",
       "    </tr>\n",
       "  </thead>\n",
       "  <tbody>\n",
       "  </tbody>\n",
       "</table>\n",
       "<p>0 rows × 29 columns</p>\n",
       "</div>"
      ],
      "text/plain": [
       "Empty DataFrame\n",
       "Columns: [Unnamed: 0, Unnamed: 0.1, Year, Month, PE, Value, m_earnings, prev_m, EPS_growth, DATE, GS10, final_EPS_growth, ppi_cable, ppi_wireline, ppi_tele_app, tele_import, tele_export, EPS_1, EPS_2, EPS_3, EPS_4, EPS_5, EPS_6, EPS_7, EPS_8, EPS_9, EPS_10, EPS_11, EPS_12]\n",
       "Index: []\n",
       "\n",
       "[0 rows x 29 columns]"
      ]
     },
     "execution_count": 38,
     "metadata": {},
     "output_type": "execute_result"
    }
   ],
   "source": [
    "final_df = final_df.dropna()\n",
    "final_df.tail(15)"
   ]
  },
  {
   "cell_type": "code",
   "execution_count": 39,
   "metadata": {},
   "outputs": [
    {
     "data": {
      "text/plain": [
       "0"
      ]
     },
     "execution_count": 39,
     "metadata": {},
     "output_type": "execute_result"
    }
   ],
   "source": [
    "len(final_df)"
   ]
  },
  {
   "cell_type": "markdown",
   "metadata": {},
   "source": [
    "### Modeling regression to predict future 12 monthly EPS growths based on various independent variables"
   ]
  },
  {
   "cell_type": "code",
   "execution_count": 40,
   "metadata": {},
   "outputs": [],
   "source": [
    "train_X = final_df.iloc[2:172,10:15]\n",
    "train_y = final_df.iloc[2:172,15::]"
   ]
  },
  {
   "cell_type": "code",
   "execution_count": 41,
   "metadata": {},
   "outputs": [
    {
     "data": {
      "text/html": [
       "<div>\n",
       "<style scoped>\n",
       "    .dataframe tbody tr th:only-of-type {\n",
       "        vertical-align: middle;\n",
       "    }\n",
       "\n",
       "    .dataframe tbody tr th {\n",
       "        vertical-align: top;\n",
       "    }\n",
       "\n",
       "    .dataframe thead th {\n",
       "        text-align: right;\n",
       "    }\n",
       "</style>\n",
       "<table border=\"1\" class=\"dataframe\">\n",
       "  <thead>\n",
       "    <tr style=\"text-align: right;\">\n",
       "      <th></th>\n",
       "      <th>GS10</th>\n",
       "      <th>final_EPS_growth</th>\n",
       "      <th>ppi_cable</th>\n",
       "      <th>ppi_wireline</th>\n",
       "      <th>ppi_tele_app</th>\n",
       "    </tr>\n",
       "  </thead>\n",
       "  <tbody>\n",
       "  </tbody>\n",
       "</table>\n",
       "</div>"
      ],
      "text/plain": [
       "Empty DataFrame\n",
       "Columns: [GS10, final_EPS_growth, ppi_cable, ppi_wireline, ppi_tele_app]\n",
       "Index: []"
      ]
     },
     "execution_count": 41,
     "metadata": {},
     "output_type": "execute_result"
    }
   ],
   "source": [
    "train_X"
   ]
  },
  {
   "cell_type": "markdown",
   "metadata": {},
   "source": [
    "<b> Test on the last 24 months </b>"
   ]
  },
  {
   "cell_type": "code",
   "execution_count": 34,
   "metadata": {},
   "outputs": [],
   "source": [
    "test_X = final_df.iloc[172::,10:15]\n",
    "test_y = final_df.iloc[172::,15::]"
   ]
  },
  {
   "cell_type": "code",
   "execution_count": 35,
   "metadata": {},
   "outputs": [],
   "source": [
    "#test_X"
   ]
  },
  {
   "cell_type": "code",
   "execution_count": 36,
   "metadata": {},
   "outputs": [
    {
     "ename": "ValueError",
     "evalue": "Found array with 0 sample(s) (shape=(0, 5)) while a minimum of 1 is required.",
     "output_type": "error",
     "traceback": [
      "\u001b[0;31m---------------------------------------------------------------------------\u001b[0m",
      "\u001b[0;31mValueError\u001b[0m                                Traceback (most recent call last)",
      "\u001b[0;32m<ipython-input-36-0769dace2d6e>\u001b[0m in \u001b[0;36m<module>\u001b[0;34m\u001b[0m\n\u001b[1;32m      5\u001b[0m \u001b[0mlinear_regression\u001b[0m \u001b[0;34m=\u001b[0m \u001b[0mLinearRegression\u001b[0m\u001b[0;34m(\u001b[0m\u001b[0;34m)\u001b[0m\u001b[0;34m\u001b[0m\u001b[0;34m\u001b[0m\u001b[0m\n\u001b[1;32m      6\u001b[0m \u001b[0;31m# fit model\u001b[0m\u001b[0;34m\u001b[0m\u001b[0;34m\u001b[0m\u001b[0;34m\u001b[0m\u001b[0m\n\u001b[0;32m----> 7\u001b[0;31m \u001b[0mlinear_regression\u001b[0m\u001b[0;34m.\u001b[0m\u001b[0mfit\u001b[0m\u001b[0;34m(\u001b[0m\u001b[0mtrain_X\u001b[0m\u001b[0;34m,\u001b[0m \u001b[0mtrain_y\u001b[0m\u001b[0;34m)\u001b[0m\u001b[0;34m\u001b[0m\u001b[0;34m\u001b[0m\u001b[0m\n\u001b[0m",
      "\u001b[0;32m/opt/anaconda3/lib/python3.8/site-packages/sklearn/linear_model/_base.py\u001b[0m in \u001b[0;36mfit\u001b[0;34m(self, X, y, sample_weight)\u001b[0m\n\u001b[1;32m    503\u001b[0m \u001b[0;34m\u001b[0m\u001b[0m\n\u001b[1;32m    504\u001b[0m         \u001b[0mn_jobs_\u001b[0m \u001b[0;34m=\u001b[0m \u001b[0mself\u001b[0m\u001b[0;34m.\u001b[0m\u001b[0mn_jobs\u001b[0m\u001b[0;34m\u001b[0m\u001b[0;34m\u001b[0m\u001b[0m\n\u001b[0;32m--> 505\u001b[0;31m         X, y = self._validate_data(X, y, accept_sparse=['csr', 'csc', 'coo'],\n\u001b[0m\u001b[1;32m    506\u001b[0m                                    y_numeric=True, multi_output=True)\n\u001b[1;32m    507\u001b[0m \u001b[0;34m\u001b[0m\u001b[0m\n",
      "\u001b[0;32m/opt/anaconda3/lib/python3.8/site-packages/sklearn/base.py\u001b[0m in \u001b[0;36m_validate_data\u001b[0;34m(self, X, y, reset, validate_separately, **check_params)\u001b[0m\n\u001b[1;32m    430\u001b[0m                 \u001b[0my\u001b[0m \u001b[0;34m=\u001b[0m \u001b[0mcheck_array\u001b[0m\u001b[0;34m(\u001b[0m\u001b[0my\u001b[0m\u001b[0;34m,\u001b[0m \u001b[0;34m**\u001b[0m\u001b[0mcheck_y_params\u001b[0m\u001b[0;34m)\u001b[0m\u001b[0;34m\u001b[0m\u001b[0;34m\u001b[0m\u001b[0m\n\u001b[1;32m    431\u001b[0m             \u001b[0;32melse\u001b[0m\u001b[0;34m:\u001b[0m\u001b[0;34m\u001b[0m\u001b[0;34m\u001b[0m\u001b[0m\n\u001b[0;32m--> 432\u001b[0;31m                 \u001b[0mX\u001b[0m\u001b[0;34m,\u001b[0m \u001b[0my\u001b[0m \u001b[0;34m=\u001b[0m \u001b[0mcheck_X_y\u001b[0m\u001b[0;34m(\u001b[0m\u001b[0mX\u001b[0m\u001b[0;34m,\u001b[0m \u001b[0my\u001b[0m\u001b[0;34m,\u001b[0m \u001b[0;34m**\u001b[0m\u001b[0mcheck_params\u001b[0m\u001b[0;34m)\u001b[0m\u001b[0;34m\u001b[0m\u001b[0;34m\u001b[0m\u001b[0m\n\u001b[0m\u001b[1;32m    433\u001b[0m             \u001b[0mout\u001b[0m \u001b[0;34m=\u001b[0m \u001b[0mX\u001b[0m\u001b[0;34m,\u001b[0m \u001b[0my\u001b[0m\u001b[0;34m\u001b[0m\u001b[0;34m\u001b[0m\u001b[0m\n\u001b[1;32m    434\u001b[0m \u001b[0;34m\u001b[0m\u001b[0m\n",
      "\u001b[0;32m/opt/anaconda3/lib/python3.8/site-packages/sklearn/utils/validation.py\u001b[0m in \u001b[0;36minner_f\u001b[0;34m(*args, **kwargs)\u001b[0m\n\u001b[1;32m     70\u001b[0m                           FutureWarning)\n\u001b[1;32m     71\u001b[0m         \u001b[0mkwargs\u001b[0m\u001b[0;34m.\u001b[0m\u001b[0mupdate\u001b[0m\u001b[0;34m(\u001b[0m\u001b[0;34m{\u001b[0m\u001b[0mk\u001b[0m\u001b[0;34m:\u001b[0m \u001b[0marg\u001b[0m \u001b[0;32mfor\u001b[0m \u001b[0mk\u001b[0m\u001b[0;34m,\u001b[0m \u001b[0marg\u001b[0m \u001b[0;32min\u001b[0m \u001b[0mzip\u001b[0m\u001b[0;34m(\u001b[0m\u001b[0msig\u001b[0m\u001b[0;34m.\u001b[0m\u001b[0mparameters\u001b[0m\u001b[0;34m,\u001b[0m \u001b[0margs\u001b[0m\u001b[0;34m)\u001b[0m\u001b[0;34m}\u001b[0m\u001b[0;34m)\u001b[0m\u001b[0;34m\u001b[0m\u001b[0;34m\u001b[0m\u001b[0m\n\u001b[0;32m---> 72\u001b[0;31m         \u001b[0;32mreturn\u001b[0m \u001b[0mf\u001b[0m\u001b[0;34m(\u001b[0m\u001b[0;34m**\u001b[0m\u001b[0mkwargs\u001b[0m\u001b[0;34m)\u001b[0m\u001b[0;34m\u001b[0m\u001b[0;34m\u001b[0m\u001b[0m\n\u001b[0m\u001b[1;32m     73\u001b[0m     \u001b[0;32mreturn\u001b[0m \u001b[0minner_f\u001b[0m\u001b[0;34m\u001b[0m\u001b[0;34m\u001b[0m\u001b[0m\n\u001b[1;32m     74\u001b[0m \u001b[0;34m\u001b[0m\u001b[0m\n",
      "\u001b[0;32m/opt/anaconda3/lib/python3.8/site-packages/sklearn/utils/validation.py\u001b[0m in \u001b[0;36mcheck_X_y\u001b[0;34m(X, y, accept_sparse, accept_large_sparse, dtype, order, copy, force_all_finite, ensure_2d, allow_nd, multi_output, ensure_min_samples, ensure_min_features, y_numeric, estimator)\u001b[0m\n\u001b[1;32m    793\u001b[0m         \u001b[0;32mraise\u001b[0m \u001b[0mValueError\u001b[0m\u001b[0;34m(\u001b[0m\u001b[0;34m\"y cannot be None\"\u001b[0m\u001b[0;34m)\u001b[0m\u001b[0;34m\u001b[0m\u001b[0;34m\u001b[0m\u001b[0m\n\u001b[1;32m    794\u001b[0m \u001b[0;34m\u001b[0m\u001b[0m\n\u001b[0;32m--> 795\u001b[0;31m     X = check_array(X, accept_sparse=accept_sparse,\n\u001b[0m\u001b[1;32m    796\u001b[0m                     \u001b[0maccept_large_sparse\u001b[0m\u001b[0;34m=\u001b[0m\u001b[0maccept_large_sparse\u001b[0m\u001b[0;34m,\u001b[0m\u001b[0;34m\u001b[0m\u001b[0;34m\u001b[0m\u001b[0m\n\u001b[1;32m    797\u001b[0m                     \u001b[0mdtype\u001b[0m\u001b[0;34m=\u001b[0m\u001b[0mdtype\u001b[0m\u001b[0;34m,\u001b[0m \u001b[0morder\u001b[0m\u001b[0;34m=\u001b[0m\u001b[0morder\u001b[0m\u001b[0;34m,\u001b[0m \u001b[0mcopy\u001b[0m\u001b[0;34m=\u001b[0m\u001b[0mcopy\u001b[0m\u001b[0;34m,\u001b[0m\u001b[0;34m\u001b[0m\u001b[0;34m\u001b[0m\u001b[0m\n",
      "\u001b[0;32m/opt/anaconda3/lib/python3.8/site-packages/sklearn/utils/validation.py\u001b[0m in \u001b[0;36minner_f\u001b[0;34m(*args, **kwargs)\u001b[0m\n\u001b[1;32m     70\u001b[0m                           FutureWarning)\n\u001b[1;32m     71\u001b[0m         \u001b[0mkwargs\u001b[0m\u001b[0;34m.\u001b[0m\u001b[0mupdate\u001b[0m\u001b[0;34m(\u001b[0m\u001b[0;34m{\u001b[0m\u001b[0mk\u001b[0m\u001b[0;34m:\u001b[0m \u001b[0marg\u001b[0m \u001b[0;32mfor\u001b[0m \u001b[0mk\u001b[0m\u001b[0;34m,\u001b[0m \u001b[0marg\u001b[0m \u001b[0;32min\u001b[0m \u001b[0mzip\u001b[0m\u001b[0;34m(\u001b[0m\u001b[0msig\u001b[0m\u001b[0;34m.\u001b[0m\u001b[0mparameters\u001b[0m\u001b[0;34m,\u001b[0m \u001b[0margs\u001b[0m\u001b[0;34m)\u001b[0m\u001b[0;34m}\u001b[0m\u001b[0;34m)\u001b[0m\u001b[0;34m\u001b[0m\u001b[0;34m\u001b[0m\u001b[0m\n\u001b[0;32m---> 72\u001b[0;31m         \u001b[0;32mreturn\u001b[0m \u001b[0mf\u001b[0m\u001b[0;34m(\u001b[0m\u001b[0;34m**\u001b[0m\u001b[0mkwargs\u001b[0m\u001b[0;34m)\u001b[0m\u001b[0;34m\u001b[0m\u001b[0;34m\u001b[0m\u001b[0m\n\u001b[0m\u001b[1;32m     73\u001b[0m     \u001b[0;32mreturn\u001b[0m \u001b[0minner_f\u001b[0m\u001b[0;34m\u001b[0m\u001b[0;34m\u001b[0m\u001b[0m\n\u001b[1;32m     74\u001b[0m \u001b[0;34m\u001b[0m\u001b[0m\n",
      "\u001b[0;32m/opt/anaconda3/lib/python3.8/site-packages/sklearn/utils/validation.py\u001b[0m in \u001b[0;36mcheck_array\u001b[0;34m(array, accept_sparse, accept_large_sparse, dtype, order, copy, force_all_finite, ensure_2d, allow_nd, ensure_min_samples, ensure_min_features, estimator)\u001b[0m\n\u001b[1;32m    648\u001b[0m         \u001b[0mn_samples\u001b[0m \u001b[0;34m=\u001b[0m \u001b[0m_num_samples\u001b[0m\u001b[0;34m(\u001b[0m\u001b[0marray\u001b[0m\u001b[0;34m)\u001b[0m\u001b[0;34m\u001b[0m\u001b[0;34m\u001b[0m\u001b[0m\n\u001b[1;32m    649\u001b[0m         \u001b[0;32mif\u001b[0m \u001b[0mn_samples\u001b[0m \u001b[0;34m<\u001b[0m \u001b[0mensure_min_samples\u001b[0m\u001b[0;34m:\u001b[0m\u001b[0;34m\u001b[0m\u001b[0;34m\u001b[0m\u001b[0m\n\u001b[0;32m--> 650\u001b[0;31m             raise ValueError(\"Found array with %d sample(s) (shape=%s) while a\"\n\u001b[0m\u001b[1;32m    651\u001b[0m                              \u001b[0;34m\" minimum of %d is required%s.\"\u001b[0m\u001b[0;34m\u001b[0m\u001b[0;34m\u001b[0m\u001b[0m\n\u001b[1;32m    652\u001b[0m                              % (n_samples, array.shape, ensure_min_samples,\n",
      "\u001b[0;31mValueError\u001b[0m: Found array with 0 sample(s) (shape=(0, 5)) while a minimum of 1 is required."
     ]
    }
   ],
   "source": [
    "# linear regression for multioutput regression\n",
    "from sklearn.datasets import make_regression\n",
    "from sklearn.linear_model import LinearRegression\n",
    "\n",
    "linear_regression = LinearRegression()\n",
    "# fit model\n",
    "linear_regression.fit(train_X, train_y)"
   ]
  },
  {
   "cell_type": "code",
   "execution_count": null,
   "metadata": {},
   "outputs": [],
   "source": [
    "yhat = linear_regression.predict(test_X)\n",
    "# summarize prediction"
   ]
  },
  {
   "cell_type": "code",
   "execution_count": null,
   "metadata": {},
   "outputs": [],
   "source": [
    "from sklearn.metrics import mean_absolute_error\n",
    "print(\"Linear Regression MAE\")\n",
    "mean_absolute_error(test_y, yhat)"
   ]
  },
  {
   "cell_type": "code",
   "execution_count": null,
   "metadata": {},
   "outputs": [],
   "source": [
    "# k-nearest neighbors for multioutput regression\n",
    "from sklearn.datasets import make_regression\n",
    "from sklearn.neighbors import KNeighborsRegressor\n",
    "\n",
    "k_n_regressor = KNeighborsRegressor()\n",
    "# fit model\n",
    "k_n_regressor.fit(train_X, train_y)"
   ]
  },
  {
   "cell_type": "code",
   "execution_count": null,
   "metadata": {},
   "outputs": [],
   "source": [
    "yhat = k_n_regressor.predict(test_X)\n",
    "# summarize prediction"
   ]
  },
  {
   "cell_type": "code",
   "execution_count": null,
   "metadata": {},
   "outputs": [],
   "source": [
    "from sklearn.metrics import mean_absolute_error\n",
    "print(\"K Neighbor MAE\")\n",
    "mean_absolute_error(test_y, yhat)"
   ]
  },
  {
   "cell_type": "code",
   "execution_count": null,
   "metadata": {},
   "outputs": [],
   "source": [
    "# decision tree for multioutput regression\n",
    "from sklearn.datasets import make_regression\n",
    "from sklearn.tree import DecisionTreeRegressor\n",
    "\n",
    "tree_regressor = DecisionTreeRegressor()\n",
    "# fit model\n",
    "tree_regressor.fit(train_X, train_y)"
   ]
  },
  {
   "cell_type": "code",
   "execution_count": null,
   "metadata": {},
   "outputs": [],
   "source": [
    "yhat = tree_regressor.predict(test_X)\n",
    "# summarize prediction"
   ]
  },
  {
   "cell_type": "code",
   "execution_count": null,
   "metadata": {},
   "outputs": [],
   "source": [
    "print(\"Decision Tree MAE\")\n",
    "mean_absolute_error(test_y, yhat)"
   ]
  },
  {
   "cell_type": "markdown",
   "metadata": {},
   "source": [
    "### Visualize prediction quality"
   ]
  },
  {
   "cell_type": "code",
   "execution_count": null,
   "metadata": {},
   "outputs": [],
   "source": [
    "test_data = final_df.iloc[172::]"
   ]
  },
  {
   "cell_type": "code",
   "execution_count": null,
   "metadata": {},
   "outputs": [],
   "source": [
    "test_data.head(5)"
   ]
  },
  {
   "cell_type": "code",
   "execution_count": null,
   "metadata": {},
   "outputs": [],
   "source": [
    "test_X_1 = final_df.iloc[172:173,10:15]\n",
    "\n",
    "test_X_2 = final_df.iloc[184:185,10:15]\n",
    "test_X_2"
   ]
  },
  {
   "cell_type": "code",
   "execution_count": null,
   "metadata": {},
   "outputs": [],
   "source": [
    "yhat_1 = linear_regression.predict(test_X_1)\n",
    "yhat_2 = linear_regression.predict(test_X_2)\n",
    "\n",
    "# summarize prediction"
   ]
  },
  {
   "cell_type": "code",
   "execution_count": null,
   "metadata": {},
   "outputs": [],
   "source": [
    "lr_reg_yhat = np.concatenate([yhat_1, yhat_2], axis=1)\n",
    "lr_reg_yhat"
   ]
  },
  {
   "cell_type": "code",
   "execution_count": null,
   "metadata": {},
   "outputs": [],
   "source": [
    "plot = test_data.loc[:,['DATE','final_EPS_growth']].set_index('DATE')\n",
    "plot\n",
    "plot['prediction'] = lr_reg_yhat[0]"
   ]
  },
  {
   "cell_type": "code",
   "execution_count": null,
   "metadata": {},
   "outputs": [],
   "source": [
    "plot.plot()"
   ]
  },
  {
   "cell_type": "code",
   "execution_count": null,
   "metadata": {},
   "outputs": [],
   "source": [
    "yhat_1 = k_n_regressor.predict(test_X_1)\n",
    "yhat_2 = k_n_regressor.predict(test_X_2)"
   ]
  },
  {
   "cell_type": "code",
   "execution_count": null,
   "metadata": {},
   "outputs": [],
   "source": [
    "k_n_regressor = np.concatenate([yhat_1, yhat_2], axis=1)\n",
    "plot = test_data.loc[:,['DATE','final_EPS_growth']].set_index('DATE')\n",
    "plot['prediction'] = k_n_regressor[0]\n",
    "plot.plot()"
   ]
  },
  {
   "cell_type": "code",
   "execution_count": null,
   "metadata": {},
   "outputs": [],
   "source": [
    "yhat_1 = tree_regressor.predict(test_X_1)\n",
    "yhat_2 = tree_regressor.predict(test_X_2)"
   ]
  },
  {
   "cell_type": "code",
   "execution_count": null,
   "metadata": {},
   "outputs": [],
   "source": [
    "tree_reg_yhat = np.concatenate([yhat_1, yhat_2], axis=1)\n",
    "plot = test_data.loc[:,['DATE','final_EPS_growth']].set_index('DATE')\n",
    "plot['prediction'] = tree_reg_yhat[0]\n",
    "plot.plot()"
   ]
  },
  {
   "cell_type": "code",
   "execution_count": null,
   "metadata": {},
   "outputs": [],
   "source": []
  },
  {
   "cell_type": "code",
   "execution_count": null,
   "metadata": {},
   "outputs": [],
   "source": []
  },
  {
   "cell_type": "code",
   "execution_count": null,
   "metadata": {},
   "outputs": [],
   "source": []
  }
 ],
 "metadata": {
  "kernelspec": {
   "display_name": "Python 3",
   "language": "python",
   "name": "python3"
  },
  "language_info": {
   "codemirror_mode": {
    "name": "ipython",
    "version": 3
   },
   "file_extension": ".py",
   "mimetype": "text/x-python",
   "name": "python",
   "nbconvert_exporter": "python",
   "pygments_lexer": "ipython3",
   "version": "3.8.5"
  }
 },
 "nbformat": 4,
 "nbformat_minor": 4
}
